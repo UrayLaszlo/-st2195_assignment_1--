{
 "cells": [
  {
   "cell_type": "code",
   "execution_count": null,
   "id": "6bc7a2f7",
   "metadata": {},
   "outputs": [],
   "source": [
    "# This is a Jupyer notebook file with the Python code from Assignment 1\n",
    "\n",
    "# Python code\n",
    "\n",
    "ints = list(range(1, 11))\n",
    "print(ints)"
   ]
  }
 ],
 "metadata": {
  "kernelspec": {
   "display_name": "Python 3 (ipykernel)",
   "language": "python",
   "name": "python3"
  },
  "language_info": {
   "codemirror_mode": {
    "name": "ipython",
    "version": 3
   },
   "file_extension": ".py",
   "mimetype": "text/x-python",
   "name": "python",
   "nbconvert_exporter": "python",
   "pygments_lexer": "ipython3",
   "version": "3.9.13"
  }
 },
 "nbformat": 4,
 "nbformat_minor": 5
}
